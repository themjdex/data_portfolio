{
 "cells": [
  {
   "cell_type": "markdown",
   "metadata": {
    "toc": true
   },
   "source": [
    "<h1>Содержание<span class=\"tocSkip\"></span></h1>\n",
    "<div class=\"toc\"><ul class=\"toc-item\"><li><ul class=\"toc-item\"><li><span><a href=\"#План-исследования\" data-toc-modified-id=\"План-исследования-0.1\"><span class=\"toc-item-num\">0.1&nbsp;&nbsp;</span>План исследования</a></span></li></ul></li><li><span><a href=\"#Подготовка-данных\" data-toc-modified-id=\"Подготовка-данных-1\"><span class=\"toc-item-num\">1&nbsp;&nbsp;</span>Подготовка данных</a></span></li><li><span><a href=\"#Исследование-задачи\" data-toc-modified-id=\"Исследование-задачи-2\"><span class=\"toc-item-num\">2&nbsp;&nbsp;</span>Исследование задачи</a></span></li><li><span><a href=\"#Борьба-с-дисбалансом\" data-toc-modified-id=\"Борьба-с-дисбалансом-3\"><span class=\"toc-item-num\">3&nbsp;&nbsp;</span>Борьба с дисбалансом</a></span></li><li><span><a href=\"#Тестирование-модели\" data-toc-modified-id=\"Тестирование-модели-4\"><span class=\"toc-item-num\">4&nbsp;&nbsp;</span>Тестирование модели</a></span></li><li><span><a href=\"#Вывод\" data-toc-modified-id=\"Вывод-5\"><span class=\"toc-item-num\">5&nbsp;&nbsp;</span>Вывод</a></span></li><li><span><a href=\"#Чек-лист-готовности-проекта\" data-toc-modified-id=\"Чек-лист-готовности-проекта-6\"><span class=\"toc-item-num\">6&nbsp;&nbsp;</span>Чек-лист готовности проекта</a></span></li></ul></div>"
   ]
  },
  {
   "cell_type": "markdown",
   "metadata": {},
   "source": [
    "# Отток клиентов"
   ]
  },
  {
   "cell_type": "markdown",
   "metadata": {},
   "source": [
    "Из «Бета-Банка» стали уходить клиенты. Каждый месяц. Немного, но заметно. Банковские маркетологи посчитали: сохранять текущих клиентов дешевле, чем привлекать новых.\n",
    "\n",
    "Нужно спрогнозировать, уйдёт клиент из банка в ближайшее время или нет. Вам предоставлены исторические данные о поведении клиентов и расторжении договоров с банком. \n",
    "\n",
    "Постройте модель с предельно большим значением *F1*-меры. Чтобы сдать проект успешно, нужно довести метрику до 0.59. Проверьте *F1*-меру на тестовой выборке самостоятельно.\n",
    "\n",
    "Дополнительно измеряйте *AUC-ROC*, сравнивайте её значение с *F1*-мерой.\n",
    "\n",
    "Источник данных: [https://www.kaggle.com/barelydedicated/bank-customer-churn-modeling](https://www.kaggle.com/barelydedicated/bank-customer-churn-modeling)"
   ]
  },
  {
   "cell_type": "markdown",
   "metadata": {},
   "source": [
    "### План исследования\n",
    "1. Подготовить данные\n",
    "2. Обучить модель по исходным признакам\n",
    "3. Проверить значение F1-меры.\n",
    "4. Если значение недостаточно высокое, внести необходимые корректировки в модель, пока результат не станет удовлетворять."
   ]
  },
  {
   "cell_type": "markdown",
   "metadata": {},
   "source": [
    "## Подготовка данных"
   ]
  },
  {
   "cell_type": "code",
   "execution_count": 1,
   "metadata": {},
   "outputs": [],
   "source": [
    "import pandas as pd\n",
    "\n",
    "from sklearn.linear_model import LogisticRegression\n",
    "from sklearn.ensemble import RandomForestClassifier\n",
    "from sklearn.tree import DecisionTreeClassifier\n",
    "\n",
    "from sklearn.model_selection import train_test_split\n",
    "from sklearn.metrics import f1_score\n",
    "from sklearn.metrics import roc_auc_score\n",
    "from sklearn.utils import shuffle\n",
    "from sklearn.preprocessing import OneHotEncoder\n",
    "from sklearn.preprocessing import StandardScaler"
   ]
  },
  {
   "cell_type": "code",
   "execution_count": 2,
   "metadata": {},
   "outputs": [],
   "source": [
    "try:\n",
    "    data = pd.read_csv('/datasets/Churn.csv')\n",
    "except:\n",
    "    raise Exception('Something is wrong. Check the file')"
   ]
  },
  {
   "cell_type": "code",
   "execution_count": 3,
   "metadata": {},
   "outputs": [
    {
     "data": {
      "text/html": [
       "<div>\n",
       "<style scoped>\n",
       "    .dataframe tbody tr th:only-of-type {\n",
       "        vertical-align: middle;\n",
       "    }\n",
       "\n",
       "    .dataframe tbody tr th {\n",
       "        vertical-align: top;\n",
       "    }\n",
       "\n",
       "    .dataframe thead th {\n",
       "        text-align: right;\n",
       "    }\n",
       "</style>\n",
       "<table border=\"1\" class=\"dataframe\">\n",
       "  <thead>\n",
       "    <tr style=\"text-align: right;\">\n",
       "      <th></th>\n",
       "      <th>RowNumber</th>\n",
       "      <th>CustomerId</th>\n",
       "      <th>Surname</th>\n",
       "      <th>CreditScore</th>\n",
       "      <th>Geography</th>\n",
       "      <th>Gender</th>\n",
       "      <th>Age</th>\n",
       "      <th>Tenure</th>\n",
       "      <th>Balance</th>\n",
       "      <th>NumOfProducts</th>\n",
       "      <th>HasCrCard</th>\n",
       "      <th>IsActiveMember</th>\n",
       "      <th>EstimatedSalary</th>\n",
       "      <th>Exited</th>\n",
       "    </tr>\n",
       "  </thead>\n",
       "  <tbody>\n",
       "    <tr>\n",
       "      <th>0</th>\n",
       "      <td>1</td>\n",
       "      <td>15634602</td>\n",
       "      <td>Hargrave</td>\n",
       "      <td>619</td>\n",
       "      <td>France</td>\n",
       "      <td>Female</td>\n",
       "      <td>42</td>\n",
       "      <td>2.0</td>\n",
       "      <td>0.00</td>\n",
       "      <td>1</td>\n",
       "      <td>1</td>\n",
       "      <td>1</td>\n",
       "      <td>101348.88</td>\n",
       "      <td>1</td>\n",
       "    </tr>\n",
       "    <tr>\n",
       "      <th>1</th>\n",
       "      <td>2</td>\n",
       "      <td>15647311</td>\n",
       "      <td>Hill</td>\n",
       "      <td>608</td>\n",
       "      <td>Spain</td>\n",
       "      <td>Female</td>\n",
       "      <td>41</td>\n",
       "      <td>1.0</td>\n",
       "      <td>83807.86</td>\n",
       "      <td>1</td>\n",
       "      <td>0</td>\n",
       "      <td>1</td>\n",
       "      <td>112542.58</td>\n",
       "      <td>0</td>\n",
       "    </tr>\n",
       "    <tr>\n",
       "      <th>2</th>\n",
       "      <td>3</td>\n",
       "      <td>15619304</td>\n",
       "      <td>Onio</td>\n",
       "      <td>502</td>\n",
       "      <td>France</td>\n",
       "      <td>Female</td>\n",
       "      <td>42</td>\n",
       "      <td>8.0</td>\n",
       "      <td>159660.80</td>\n",
       "      <td>3</td>\n",
       "      <td>1</td>\n",
       "      <td>0</td>\n",
       "      <td>113931.57</td>\n",
       "      <td>1</td>\n",
       "    </tr>\n",
       "    <tr>\n",
       "      <th>3</th>\n",
       "      <td>4</td>\n",
       "      <td>15701354</td>\n",
       "      <td>Boni</td>\n",
       "      <td>699</td>\n",
       "      <td>France</td>\n",
       "      <td>Female</td>\n",
       "      <td>39</td>\n",
       "      <td>1.0</td>\n",
       "      <td>0.00</td>\n",
       "      <td>2</td>\n",
       "      <td>0</td>\n",
       "      <td>0</td>\n",
       "      <td>93826.63</td>\n",
       "      <td>0</td>\n",
       "    </tr>\n",
       "    <tr>\n",
       "      <th>4</th>\n",
       "      <td>5</td>\n",
       "      <td>15737888</td>\n",
       "      <td>Mitchell</td>\n",
       "      <td>850</td>\n",
       "      <td>Spain</td>\n",
       "      <td>Female</td>\n",
       "      <td>43</td>\n",
       "      <td>2.0</td>\n",
       "      <td>125510.82</td>\n",
       "      <td>1</td>\n",
       "      <td>1</td>\n",
       "      <td>1</td>\n",
       "      <td>79084.10</td>\n",
       "      <td>0</td>\n",
       "    </tr>\n",
       "  </tbody>\n",
       "</table>\n",
       "</div>"
      ],
      "text/plain": [
       "   RowNumber  CustomerId   Surname  CreditScore Geography  Gender  Age  \\\n",
       "0          1    15634602  Hargrave          619    France  Female   42   \n",
       "1          2    15647311      Hill          608     Spain  Female   41   \n",
       "2          3    15619304      Onio          502    France  Female   42   \n",
       "3          4    15701354      Boni          699    France  Female   39   \n",
       "4          5    15737888  Mitchell          850     Spain  Female   43   \n",
       "\n",
       "   Tenure    Balance  NumOfProducts  HasCrCard  IsActiveMember  \\\n",
       "0     2.0       0.00              1          1               1   \n",
       "1     1.0   83807.86              1          0               1   \n",
       "2     8.0  159660.80              3          1               0   \n",
       "3     1.0       0.00              2          0               0   \n",
       "4     2.0  125510.82              1          1               1   \n",
       "\n",
       "   EstimatedSalary  Exited  \n",
       "0        101348.88       1  \n",
       "1        112542.58       0  \n",
       "2        113931.57       1  \n",
       "3         93826.63       0  \n",
       "4         79084.10       0  "
      ]
     },
     "execution_count": 3,
     "metadata": {},
     "output_type": "execute_result"
    }
   ],
   "source": [
    "# ознакомимся с данными\n",
    "data.head()"
   ]
  },
  {
   "cell_type": "code",
   "execution_count": 4,
   "metadata": {},
   "outputs": [
    {
     "name": "stdout",
     "output_type": "stream",
     "text": [
      "<class 'pandas.core.frame.DataFrame'>\n",
      "RangeIndex: 10000 entries, 0 to 9999\n",
      "Data columns (total 14 columns):\n",
      " #   Column           Non-Null Count  Dtype  \n",
      "---  ------           --------------  -----  \n",
      " 0   RowNumber        10000 non-null  int64  \n",
      " 1   CustomerId       10000 non-null  int64  \n",
      " 2   Surname          10000 non-null  object \n",
      " 3   CreditScore      10000 non-null  int64  \n",
      " 4   Geography        10000 non-null  object \n",
      " 5   Gender           10000 non-null  object \n",
      " 6   Age              10000 non-null  int64  \n",
      " 7   Tenure           9091 non-null   float64\n",
      " 8   Balance          10000 non-null  float64\n",
      " 9   NumOfProducts    10000 non-null  int64  \n",
      " 10  HasCrCard        10000 non-null  int64  \n",
      " 11  IsActiveMember   10000 non-null  int64  \n",
      " 12  EstimatedSalary  10000 non-null  float64\n",
      " 13  Exited           10000 non-null  int64  \n",
      "dtypes: float64(3), int64(8), object(3)\n",
      "memory usage: 1.1+ MB\n"
     ]
    }
   ],
   "source": [
    "data.info()"
   ]
  },
  {
   "cell_type": "markdown",
   "metadata": {},
   "source": [
    "Видим, что пропуски есть только в столбце Tenure, где хранится кол-во лет, которое клиент является пользователем банка. С этим нужно будет разобраться перед тем, как приступать к обучению. Расшифрока других признаков:\n",
    "- RowNumber — индекс строки в данных\n",
    "- CustomerId — уникальный идентификатор клиента\n",
    "- Surname — фамилия\n",
    "- CreditScore — кредитный рейтинг\n",
    "- Geography — страна проживания\n",
    "- Gender — пол\n",
    "- Age — возраст\n",
    "- Balance — баланс на счёте\n",
    "- NumOfProducts — количество продуктов банка, используемых клиентом\n",
    "- HasCrCard — наличие кредитной карты\n",
    "- IsActiveMember — активность клиента\n",
    "- EstimatedSalary — предполагаемая зарплата\n",
    "\n",
    "Целевой признак:\n",
    "- Exited — факт ухода клиента"
   ]
  },
  {
   "cell_type": "code",
   "execution_count": 5,
   "metadata": {},
   "outputs": [
    {
     "data": {
      "text/plain": [
       "1.0     952\n",
       "2.0     950\n",
       "8.0     933\n",
       "3.0     928\n",
       "5.0     927\n",
       "7.0     925\n",
       "4.0     885\n",
       "9.0     882\n",
       "6.0     881\n",
       "10.0    446\n",
       "0.0     382\n",
       "Name: Tenure, dtype: int64"
      ]
     },
     "execution_count": 5,
     "metadata": {},
     "output_type": "execute_result"
    }
   ],
   "source": [
    "# посмотрим, какие данные присутствуют в столбце с пропусками\n",
    "data.Tenure.value_counts()"
   ]
  },
  {
   "cell_type": "markdown",
   "metadata": {},
   "source": [
    "Как мы видим, значение 0 присутствует, значит, пропуск скорее всего не у тех, кто и года не провел в сотрудничестве с банком. Заполним пропуски медианой. Дополнительно стоит заметить, что все значения целые, поэтому в типе float надобности нет."
   ]
  },
  {
   "cell_type": "code",
   "execution_count": 6,
   "metadata": {},
   "outputs": [],
   "source": [
    "# заполняем строки с пропусками медианой\n",
    "data.loc[data['Tenure'].isna(), 'Tenure'] = data['Tenure'].median()\n",
    "# приводим значения к int\n",
    "data['Tenure'] = data['Tenure'].astype('int64')"
   ]
  },
  {
   "cell_type": "code",
   "execution_count": 7,
   "metadata": {
    "scrolled": false
   },
   "outputs": [
    {
     "name": "stdout",
     "output_type": "stream",
     "text": [
      "<class 'pandas.core.frame.DataFrame'>\n",
      "RangeIndex: 10000 entries, 0 to 9999\n",
      "Data columns (total 14 columns):\n",
      " #   Column           Non-Null Count  Dtype  \n",
      "---  ------           --------------  -----  \n",
      " 0   RowNumber        10000 non-null  int64  \n",
      " 1   CustomerId       10000 non-null  int64  \n",
      " 2   Surname          10000 non-null  object \n",
      " 3   CreditScore      10000 non-null  int64  \n",
      " 4   Geography        10000 non-null  object \n",
      " 5   Gender           10000 non-null  object \n",
      " 6   Age              10000 non-null  int64  \n",
      " 7   Tenure           10000 non-null  int64  \n",
      " 8   Balance          10000 non-null  float64\n",
      " 9   NumOfProducts    10000 non-null  int64  \n",
      " 10  HasCrCard        10000 non-null  int64  \n",
      " 11  IsActiveMember   10000 non-null  int64  \n",
      " 12  EstimatedSalary  10000 non-null  float64\n",
      " 13  Exited           10000 non-null  int64  \n",
      "dtypes: float64(2), int64(9), object(3)\n",
      "memory usage: 1.1+ MB\n"
     ]
    }
   ],
   "source": [
    "# проверяем\n",
    "data.info()"
   ]
  },
  {
   "cell_type": "markdown",
   "metadata": {},
   "source": [
    "Далее на очереди кодирование. У нас есть категориальные признаки: *CustomerId, Surname, Geography, Gender*. Несмотря на то, что CustomerId является числом, это просто идентификатор клиента. Его присвоение наверняка автоматизировано и не имеет прямого отношения к поведению клиента. То же самое относится к RowNumber, который является лишь индексом строки в датасете. Эти данные мы удалим. То же относится к Surname, попытка предсказывания по фамилии может запутать модель, и слишком «раздует» датасет после кодирования. А вот страну проживания и пол учитывать стоит."
   ]
  },
  {
   "cell_type": "markdown",
   "metadata": {},
   "source": [
    "Так как нам нужно перевести только два признака в количественные, и есть уже другие количественные признаки, то воспользуемся OHE."
   ]
  },
  {
   "cell_type": "code",
   "execution_count": 8,
   "metadata": {},
   "outputs": [],
   "source": [
    "# удаляем неинформативные признаки\n",
    "data = data.drop(['RowNumber', 'CustomerId', 'Surname'], axis=1)"
   ]
  },
  {
   "cell_type": "code",
   "execution_count": 9,
   "metadata": {},
   "outputs": [],
   "source": [
    "# обозначим единый рандом для всей дальнейшей работы\n",
    "random_state = 999"
   ]
  },
  {
   "cell_type": "code",
   "execution_count": 10,
   "metadata": {},
   "outputs": [],
   "source": [
    "# разделим признаки\n",
    "features = data.drop(['Exited'], axis=1)\n",
    "target = data['Exited']"
   ]
  },
  {
   "cell_type": "code",
   "execution_count": 11,
   "metadata": {},
   "outputs": [],
   "source": [
    "# разбиваем данные на обучающую, валидационную и тестовую выборки в соотношении 60:20:20\n",
    "features_train, features_test, target_train, target_test = train_test_split(\n",
    "    features, target, test_size=0.4, random_state=random_state, stratify=target\n",
    ")\n",
    "\n",
    "features_valid, features_test, target_valid, target_test = train_test_split(\n",
    "    features_test, target_test, test_size=0.5, random_state=random_state, stratify=target_test\n",
    ")"
   ]
  },
  {
   "cell_type": "code",
   "execution_count": 12,
   "metadata": {},
   "outputs": [
    {
     "name": "stdout",
     "output_type": "stream",
     "text": [
      "(6000, 10)\n",
      "(6000,)\n",
      "(2000, 10)\n",
      "(2000,)\n",
      "(2000, 10)\n",
      "(2000,)\n"
     ]
    }
   ],
   "source": [
    "# проверим верность пропорций\n",
    "print(features_train.shape)\n",
    "print(target_train.shape)\n",
    "\n",
    "print(features_valid.shape)\n",
    "print(target_valid.shape)\n",
    "\n",
    "print(features_test.shape)\n",
    "print(target_test.shape)"
   ]
  },
  {
   "cell_type": "code",
   "execution_count": 13,
   "metadata": {},
   "outputs": [],
   "source": [
    "# запишем функцию для кодирования\n",
    "def one_hot_encoding(sample):\n",
    "    sample = sample.reset_index(drop=True)\n",
    "    enc = OneHotEncoder(drop='first')\n",
    "    encoder_df = pd.DataFrame(enc.fit_transform(sample[['Gender', 'Geography']]).toarray())\n",
    "    return sample.join(encoder_df).drop(['Gender', 'Geography'], axis=1)"
   ]
  },
  {
   "cell_type": "code",
   "execution_count": 14,
   "metadata": {},
   "outputs": [
    {
     "name": "stdout",
     "output_type": "stream",
     "text": [
      "(6000, 11)\n",
      "(2000, 11)\n",
      "(2000, 11)\n"
     ]
    }
   ],
   "source": [
    "# закодируем все выборки с признаками\n",
    "features_train = one_hot_encoding(features_train)\n",
    "features_valid = one_hot_encoding(features_valid)\n",
    "features_test = one_hot_encoding(features_test)\n",
    "print(features_train.shape)\n",
    "print(features_valid.shape)\n",
    "print(features_test.shape)"
   ]
  },
  {
   "cell_type": "code",
   "execution_count": 15,
   "metadata": {},
   "outputs": [],
   "source": [
    "# приведем числовые имена новых столбцов к строкам\n",
    "features_train.columns = features_train.columns.map(str)\n",
    "features_valid.columns = features_valid.columns.map(str)\n",
    "features_test.columns = features_test.columns.map(str)"
   ]
  },
  {
   "cell_type": "markdown",
   "metadata": {},
   "source": [
    "Есть признаки с разным масштабом, например, баланс на счете и наличие кредитной карты. Масштабируем все значения для дальнейшего обучения модели."
   ]
  },
  {
   "cell_type": "code",
   "execution_count": 16,
   "metadata": {},
   "outputs": [
    {
     "data": {
      "text/html": [
       "<div>\n",
       "<style scoped>\n",
       "    .dataframe tbody tr th:only-of-type {\n",
       "        vertical-align: middle;\n",
       "    }\n",
       "\n",
       "    .dataframe tbody tr th {\n",
       "        vertical-align: top;\n",
       "    }\n",
       "\n",
       "    .dataframe thead th {\n",
       "        text-align: right;\n",
       "    }\n",
       "</style>\n",
       "<table border=\"1\" class=\"dataframe\">\n",
       "  <thead>\n",
       "    <tr style=\"text-align: right;\">\n",
       "      <th></th>\n",
       "      <th>CreditScore</th>\n",
       "      <th>Age</th>\n",
       "      <th>Tenure</th>\n",
       "      <th>Balance</th>\n",
       "      <th>NumOfProducts</th>\n",
       "      <th>HasCrCard</th>\n",
       "      <th>IsActiveMember</th>\n",
       "      <th>EstimatedSalary</th>\n",
       "      <th>0</th>\n",
       "      <th>1</th>\n",
       "      <th>2</th>\n",
       "    </tr>\n",
       "  </thead>\n",
       "  <tbody>\n",
       "    <tr>\n",
       "      <th>0</th>\n",
       "      <td>-0.639786</td>\n",
       "      <td>0.385695</td>\n",
       "      <td>0.730779</td>\n",
       "      <td>0.080803</td>\n",
       "      <td>0.819046</td>\n",
       "      <td>0.637291</td>\n",
       "      <td>0.970437</td>\n",
       "      <td>1.441672</td>\n",
       "      <td>0.917091</td>\n",
       "      <td>-0.572475</td>\n",
       "      <td>-0.571705</td>\n",
       "    </tr>\n",
       "    <tr>\n",
       "      <th>1</th>\n",
       "      <td>1.721641</td>\n",
       "      <td>3.140547</td>\n",
       "      <td>1.093479</td>\n",
       "      <td>0.952093</td>\n",
       "      <td>0.819046</td>\n",
       "      <td>0.637291</td>\n",
       "      <td>0.970437</td>\n",
       "      <td>-0.629563</td>\n",
       "      <td>-1.090405</td>\n",
       "      <td>1.746802</td>\n",
       "      <td>-0.571705</td>\n",
       "    </tr>\n",
       "    <tr>\n",
       "      <th>2</th>\n",
       "      <td>-0.505144</td>\n",
       "      <td>0.005716</td>\n",
       "      <td>1.456179</td>\n",
       "      <td>0.011581</td>\n",
       "      <td>-0.914997</td>\n",
       "      <td>-1.569141</td>\n",
       "      <td>-1.030464</td>\n",
       "      <td>-0.899666</td>\n",
       "      <td>-1.090405</td>\n",
       "      <td>-0.572475</td>\n",
       "      <td>-0.571705</td>\n",
       "    </tr>\n",
       "    <tr>\n",
       "      <th>3</th>\n",
       "      <td>0.810213</td>\n",
       "      <td>-0.469259</td>\n",
       "      <td>0.005380</td>\n",
       "      <td>-0.029760</td>\n",
       "      <td>0.819046</td>\n",
       "      <td>0.637291</td>\n",
       "      <td>-1.030464</td>\n",
       "      <td>-0.052152</td>\n",
       "      <td>-1.090405</td>\n",
       "      <td>-0.572475</td>\n",
       "      <td>-0.571705</td>\n",
       "    </tr>\n",
       "    <tr>\n",
       "      <th>4</th>\n",
       "      <td>-1.654786</td>\n",
       "      <td>0.575685</td>\n",
       "      <td>1.456179</td>\n",
       "      <td>1.514668</td>\n",
       "      <td>0.819046</td>\n",
       "      <td>-1.569141</td>\n",
       "      <td>-1.030464</td>\n",
       "      <td>1.130102</td>\n",
       "      <td>0.917091</td>\n",
       "      <td>1.746802</td>\n",
       "      <td>-0.571705</td>\n",
       "    </tr>\n",
       "  </tbody>\n",
       "</table>\n",
       "</div>"
      ],
      "text/plain": [
       "   CreditScore       Age    Tenure   Balance  NumOfProducts  HasCrCard  \\\n",
       "0    -0.639786  0.385695  0.730779  0.080803       0.819046   0.637291   \n",
       "1     1.721641  3.140547  1.093479  0.952093       0.819046   0.637291   \n",
       "2    -0.505144  0.005716  1.456179  0.011581      -0.914997  -1.569141   \n",
       "3     0.810213 -0.469259  0.005380 -0.029760       0.819046   0.637291   \n",
       "4    -1.654786  0.575685  1.456179  1.514668       0.819046  -1.569141   \n",
       "\n",
       "   IsActiveMember  EstimatedSalary         0         1         2  \n",
       "0        0.970437         1.441672  0.917091 -0.572475 -0.571705  \n",
       "1        0.970437        -0.629563 -1.090405  1.746802 -0.571705  \n",
       "2       -1.030464        -0.899666 -1.090405 -0.572475 -0.571705  \n",
       "3       -1.030464        -0.052152 -1.090405 -0.572475 -0.571705  \n",
       "4       -1.030464         1.130102  0.917091  1.746802 -0.571705  "
      ]
     },
     "execution_count": 16,
     "metadata": {},
     "output_type": "execute_result"
    }
   ],
   "source": [
    "pd.options.mode.chained_assignment = None\n",
    "numeric = ['CreditScore', 'Age', 'Tenure', 'Balance', 'NumOfProducts', \n",
    "           'HasCrCard', 'IsActiveMember', 'EstimatedSalary', '0', '1', '2']\n",
    "scaler = StandardScaler()\n",
    "scaler.fit(features_train)\n",
    "features_train[numeric] = scaler.transform(features_train[numeric])\n",
    "features_valid[numeric] = scaler.transform(features_valid[numeric])\n",
    "features_test[numeric] = scaler.transform(features_test[numeric])\n",
    "features_train.head()"
   ]
  },
  {
   "cell_type": "markdown",
   "metadata": {},
   "source": [
    "На этом предобработка данных завершена, переходим к исследованию задачи."
   ]
  },
  {
   "cell_type": "markdown",
   "metadata": {},
   "source": [
    "## Исследование задачи"
   ]
  },
  {
   "cell_type": "markdown",
   "metadata": {},
   "source": [
    "Нашим целевым признаком является Exited, и нам потребуется предсказать, уйдет ли клиент от нас (1) или останется (0). По сути нам нужно предсказать один из двух классов, что подходит под задачу классификации. Также можно рассматривать с точки зрения логистической регрессии, поэтому посмотрим и на нее. Проверим сначала баланс классов."
   ]
  },
  {
   "cell_type": "code",
   "execution_count": 17,
   "metadata": {},
   "outputs": [
    {
     "data": {
      "text/plain": [
       "0    7963\n",
       "1    2037\n",
       "Name: Exited, dtype: int64"
      ]
     },
     "execution_count": 17,
     "metadata": {},
     "output_type": "execute_result"
    }
   ],
   "source": [
    "data.Exited.value_counts()"
   ]
  },
  {
   "cell_type": "markdown",
   "metadata": {},
   "source": [
    "Видим, что в датасете ушедших клиентов намного меньше, чем оставшихся, это скорее всего повлияет на верность прогнозов. Но сначала проверим, потребуется ли компенсировать дисбаланс. Для этого обучим модели и сверим F1. Дополнительно будем рассчитывать AUC-ROC и подберем гиперпараметры для решающего дерева и случайного леса."
   ]
  },
  {
   "cell_type": "code",
   "execution_count": 18,
   "metadata": {},
   "outputs": [
    {
     "name": "stdout",
     "output_type": "stream",
     "text": [
      "F1 for LogisticRegression 0.3309608540925267\n",
      "AUC-ROC = 0.7608923908759484\n"
     ]
    }
   ],
   "source": [
    "# взглянем на логистическую регрессию\n",
    "model = LogisticRegression(random_state=random_state, solver='liblinear')\n",
    "model.fit(features_train, target_train)\n",
    "predicted_valid = model.predict(features_valid)\n",
    "probablities_valid = model.predict_proba(features_valid)[:, 1]\n",
    "print(\"F1 for\", type(model).__name__, f1_score(target_valid, predicted_valid))\n",
    "print('AUC-ROC =', roc_auc_score(target_valid, probablities_valid))"
   ]
  },
  {
   "cell_type": "code",
   "execution_count": 19,
   "metadata": {},
   "outputs": [
    {
     "name": "stdout",
     "output_type": "stream",
     "text": [
      "max_depth: 1  | F1: 0.0                  | AUC-ROC: 0.6870504483200315\n",
      "max_depth: 2  | F1: 0.4992743105950653   | AUC-ROC: 0.7394270679377278\n",
      "max_depth: 3  | F1: 0.48370497427101206  | AUC-ROC: 0.7988071484875358\n",
      "max_depth: 4  | F1: 0.4982698961937717   | AUC-ROC: 0.8275707582027787\n",
      "max_depth: 5  | F1: 0.525984251968504    | AUC-ROC: 0.8366872659867968\n",
      "max_depth: 6  | F1: 0.5736925515055467   | AUC-ROC: 0.8412051064144251\n",
      "max_depth: 7  | F1: 0.5816485225505443   | AUC-ROC: 0.8261443553552075\n",
      "max_depth: 8  | F1: 0.6005917159763313   | AUC-ROC: 0.8381098199329984\n",
      "max_depth: 9  | F1: 0.5493171471927162   | AUC-ROC: 0.8259896295201498\n",
      "max_depth: 10 | F1: 0.5470588235294118   | AUC-ROC: 0.7983244962557887\n",
      "max_depth: 11 | F1: 0.5399449035812672   | AUC-ROC: 0.7690128029855158\n",
      "max_depth: 12 | F1: 0.5456989247311829   | AUC-ROC: 0.7385033316090255\n",
      "max_depth: 13 | F1: 0.521164021164021    | AUC-ROC: 0.7229606980983347\n",
      "max_depth: 14 | F1: 0.5445161290322581   | AUC-ROC: 0.7190409769435413\n",
      "max_depth: 15 | F1: 0.5552699228791773   | AUC-ROC: 0.7149588321509508\n"
     ]
    }
   ],
   "source": [
    "# на решающее дерево\n",
    "for depth in range(1, 16, 1):\n",
    "    model = DecisionTreeClassifier(random_state=random_state, max_depth=depth)\n",
    "    model.fit(features_train, target_train)\n",
    "    predictions = model.predict(features_valid)\n",
    "\n",
    "    probabilities_valid = model.predict_proba(features_valid)\n",
    "    probabilities_one_valid = probabilities_valid[:, 1]\n",
    "    \n",
    "    print('max_depth: {0:<2} | F1: {1:<20} | AUC-ROC: {2:<5}'.format(\n",
    "        depth, f1_score(target_valid, predictions), roc_auc_score(target_valid, probabilities_one_valid)\n",
    "    ))\n"
   ]
  },
  {
   "cell_type": "code",
   "execution_count": 20,
   "metadata": {},
   "outputs": [
    {
     "name": "stdout",
     "output_type": "stream",
     "text": [
      "estimators: 10    | max_depth: 10 | F1: 0.5507246376811594   | AUC-ROC: 0.8497696817420435\n",
      "estimators: 10    | max_depth: 11 | F1: 0.5571205007824725   | AUC-ROC: 0.8510313516109962\n",
      "estimators: 10    | max_depth: 12 | F1: 0.5807453416149068   | AUC-ROC: 0.8480823233816139\n",
      "estimators: 10    | max_depth: 13 | F1: 0.582701062215478    | AUC-ROC: 0.8329507525371957\n",
      "estimators: 10    | max_depth: 14 | F1: 0.5753424657534246   | AUC-ROC: 0.833043126170066\n",
      "estimators: 10    | max_depth: 15 | F1: 0.5688888888888888   | AUC-ROC: 0.8383161210464085\n",
      "estimators: 10    | max_depth: 16 | F1: 0.5587786259541985   | AUC-ROC: 0.8396247475120702\n",
      "estimators: 10    | max_depth: 17 | F1: 0.5727411944869831   | AUC-ROC: 0.8430110109370381\n",
      "estimators: 10    | max_depth: 18 | F1: 0.5748148148148148   | AUC-ROC: 0.8328514508818603\n",
      "estimators: 10    | max_depth: 19 | F1: 0.5564142194744977   | AUC-ROC: 0.8330646800177358\n",
      "estimators: 30    | max_depth: 10 | F1: 0.5654281098546041   | AUC-ROC: 0.8640806668144644\n",
      "estimators: 30    | max_depth: 11 | F1: 0.562798092209857    | AUC-ROC: 0.8566776899201891\n",
      "estimators: 30    | max_depth: 12 | F1: 0.5978090766823161   | AUC-ROC: 0.8611000775938517\n",
      "estimators: 30    | max_depth: 13 | F1: 0.58125              | AUC-ROC: 0.855411401369593\n",
      "estimators: 30    | max_depth: 14 | F1: 0.6006191950464397   | AUC-ROC: 0.8566569058527934\n",
      "estimators: 30    | max_depth: 15 | F1: 0.5833333333333334   | AUC-ROC: 0.8570264003842744\n",
      "estimators: 30    | max_depth: 16 | F1: 0.593607305936073    | AUC-ROC: 0.8582834515715834\n",
      "estimators: 30    | max_depth: 17 | F1: 0.5916795069337442   | AUC-ROC: 0.8578847053896934\n",
      "estimators: 30    | max_depth: 18 | F1: 0.5914634146341463   | AUC-ROC: 0.8531751896738595\n",
      "estimators: 30    | max_depth: 19 | F1: 0.5801526717557252   | AUC-ROC: 0.8528010764607349\n",
      "estimators: 50    | max_depth: 10 | F1: 0.5778491171749599   | AUC-ROC: 0.8666217114986698\n",
      "estimators: 50    | max_depth: 11 | F1: 0.58125              | AUC-ROC: 0.8622416617400728\n",
      "estimators: 50    | max_depth: 12 | F1: 0.6068111455108359   | AUC-ROC: 0.8615242265247808\n",
      "estimators: 50    | max_depth: 13 | F1: 0.6003159557661928   | AUC-ROC: 0.8586452483003252\n",
      "estimators: 50    | max_depth: 14 | F1: 0.6042944785276073   | AUC-ROC: 0.8624248694452655\n",
      "estimators: 50    | max_depth: 15 | F1: 0.5993788819875777   | AUC-ROC: 0.8628205365060596\n",
      "estimators: 50    | max_depth: 16 | F1: 0.5875190258751902   | AUC-ROC: 0.860214830278845\n",
      "estimators: 50    | max_depth: 17 | F1: 0.6057838660578386   | AUC-ROC: 0.8599354000394128\n",
      "estimators: 50    | max_depth: 18 | F1: 0.598159509202454    | AUC-ROC: 0.8588376933688048\n",
      "estimators: 50    | max_depth: 19 | F1: 0.5766871165644172   | AUC-ROC: 0.8563105047295301\n",
      "estimators: 70    | max_depth: 10 | F1: 0.5814696485623003   | AUC-ROC: 0.8680889127007587\n",
      "estimators: 70    | max_depth: 11 | F1: 0.5902668759811617   | AUC-ROC: 0.865513227904227\n",
      "estimators: 70    | max_depth: 12 | F1: 0.5987460815047022   | AUC-ROC: 0.8650821509508327\n",
      "estimators: 70    | max_depth: 13 | F1: 0.5924764890282133   | AUC-ROC: 0.8619345194107794\n",
      "estimators: 70    | max_depth: 14 | F1: 0.6003110419906686   | AUC-ROC: 0.8611701275987782\n",
      "estimators: 70    | max_depth: 15 | F1: 0.5893416927899686   | AUC-ROC: 0.8627504865011332\n",
      "estimators: 70    | max_depth: 16 | F1: 0.5938461538461538   | AUC-ROC: 0.8634563750123164\n",
      "estimators: 70    | max_depth: 17 | F1: 0.6121212121212122   | AUC-ROC: 0.8620461375504975\n",
      "estimators: 70    | max_depth: 18 | F1: 0.5953488372093023   | AUC-ROC: 0.8613964429993104\n",
      "estimators: 70    | max_depth: 19 | F1: 0.5873261205564142   | AUC-ROC: 0.8592772379052124\n",
      "estimators: 90    | max_depth: 10 | F1: 0.576                | AUC-ROC: 0.8686801039511282\n",
      "estimators: 90    | max_depth: 11 | F1: 0.5924764890282133   | AUC-ROC: 0.8672113631884915\n",
      "estimators: 90    | max_depth: 12 | F1: 0.6018808777429466   | AUC-ROC: 0.8662183466351364\n",
      "estimators: 90    | max_depth: 13 | F1: 0.5924764890282133   | AUC-ROC: 0.8630353052024831\n",
      "estimators: 90    | max_depth: 14 | F1: 0.6018518518518519   | AUC-ROC: 0.8630976574046705\n",
      "estimators: 90    | max_depth: 15 | F1: 0.6040688575899843   | AUC-ROC: 0.8615473199329984\n",
      "estimators: 90    | max_depth: 16 | F1: 0.601526717557252    | AUC-ROC: 0.8641638030840476\n",
      "estimators: 90    | max_depth: 17 | F1: 0.6067073170731707   | AUC-ROC: 0.8632693184057543\n",
      "estimators: 90    | max_depth: 18 | F1: 0.5990783410138248   | AUC-ROC: 0.8623655963641739\n",
      "estimators: 90    | max_depth: 19 | F1: 0.5947611710323575   | AUC-ROC: 0.8594381219824613\n"
     ]
    }
   ],
   "source": [
    "# на случайный лес\n",
    "for est in range(10, 101, 20):\n",
    "    for depth in range(10, 20, 1):\n",
    "        model = RandomForestClassifier(random_state=random_state, n_estimators=est, max_depth=depth)\n",
    "        model.fit(features_train, target_train)\n",
    "        predictions = model.predict(features_valid)\n",
    "\n",
    "        probabilities_valid = model.predict_proba(features_valid)\n",
    "        probabilities_one_valid = probabilities_valid[:, 1]\n",
    "        print('estimators: {0:<5} | max_depth: {1:<2} | F1: {2:<20} | AUC-ROC: {3:<5}'.format(\n",
    "        est, depth, f1_score(target_valid, predictions), roc_auc_score(target_valid, probabilities_one_valid)\n",
    "    ))"
   ]
  },
  {
   "cell_type": "markdown",
   "metadata": {},
   "source": [
    "Результат у логистической регрессии получился неудовлетворительный, а вот у деревьев удалось достичь заданного критерия. \n",
    "\n",
    "Зафисируем гиперпараметры для деревьев. \n",
    "\n",
    "DecisionTreeClassifier: \n",
    "- max_depth: 8  | F1: 0.6005917159763313   | AUC-ROC: 0.8381098199329984\n",
    "\n",
    "RandomForestClassifier:\n",
    "- estimators: 70    | max_depth: 17 | F1: 0.6121212121212122   | AUC-ROC: 0.8620461375504975\n",
    "\n",
    "Возможно, если сбалансировать классы, то получится улучшить результат. Проверим это."
   ]
  },
  {
   "cell_type": "markdown",
   "metadata": {},
   "source": [
    "## Борьба с дисбалансом"
   ]
  },
  {
   "cell_type": "code",
   "execution_count": 21,
   "metadata": {},
   "outputs": [
    {
     "name": "stdout",
     "output_type": "stream",
     "text": [
      "F1 for LogisticRegression 0.4863436123348017\n",
      "AUC-ROC: 0.7672969627549513\n"
     ]
    }
   ],
   "source": [
    "# попробуем указать необходимость сбалансировать веса для логистической регрессии и сразу будем измерять AUC-ROC\n",
    "\n",
    "model = LogisticRegression(random_state=random_state, solver='liblinear', class_weight='balanced')\n",
    "model.fit(features_train, target_train)\n",
    "predicted_valid = model.predict(features_valid)\n",
    "print(\"F1 for\", type(model).__name__, f1_score(target_valid, predicted_valid))\n",
    "probabilities_valid = model.predict_proba(features_valid)\n",
    "probabilities_one_valid = probabilities_valid[:, 1]\n",
    "print('AUC-ROC:', roc_auc_score(target_valid, probabilities_one_valid))"
   ]
  },
  {
   "cell_type": "markdown",
   "metadata": {},
   "source": [
    "F1-мера резко подскочила, что подтверждает догадку для этого случая, но все равно недостаточно. Попробуем другой подход: увеличить кол-во исходов ухода, т.е. применим upsampling."
   ]
  },
  {
   "cell_type": "code",
   "execution_count": 22,
   "metadata": {},
   "outputs": [],
   "source": [
    "# так как мы пересчитывали индексы для признаков, сделаем то же для целевой выборки\n",
    "target_train = target_train.reset_index(drop=True)"
   ]
  },
  {
   "cell_type": "code",
   "execution_count": 23,
   "metadata": {},
   "outputs": [
    {
     "name": "stdout",
     "output_type": "stream",
     "text": [
      "F1: 0.4843205574912892\n",
      "AUC-ROC: 0.7673754803428909\n"
     ]
    }
   ],
   "source": [
    "def upsample(features, target, repeat):\n",
    "    features_zeros = features[target == 0]\n",
    "    features_ones = features[target == 1]\n",
    "    target_zeros = target[target == 0]\n",
    "    target_ones = target[target == 1]\n",
    "\n",
    "    features_upsampled = pd.concat([features_zeros] + [features_ones] * repeat)\n",
    "    target_upsampled = pd.concat([target_zeros] + [target_ones] * repeat)\n",
    "    \n",
    "    features_upsampled, target_upsampled = shuffle(\n",
    "        features_upsampled, target_upsampled, random_state=random_state)\n",
    "    \n",
    "    return features_upsampled, target_upsampled\n",
    "\n",
    "features_upsampled, target_upsampled = upsample(features_train, target_train, 4)\n",
    "\n",
    "model = LogisticRegression(random_state=random_state, solver='liblinear', max_iter=1000)\n",
    "model.fit(features_upsampled, target_upsampled)\n",
    "predicted_valid = model.predict(features_valid)\n",
    "\n",
    "probabilities_valid = model.predict_proba(features_valid)\n",
    "probabilities_one_valid = probabilities_valid[:, 1]\n",
    "\n",
    "print(\"F1:\", f1_score(target_valid, predicted_valid))\n",
    "print('AUC-ROC:', roc_auc_score(target_valid, probabilities_one_valid))"
   ]
  },
  {
   "cell_type": "markdown",
   "metadata": {},
   "source": [
    "Результат не удовлетворяет. Попробуем наоборот уменьшить кол-во преобладающих исходов."
   ]
  },
  {
   "cell_type": "code",
   "execution_count": 24,
   "metadata": {},
   "outputs": [
    {
     "name": "stdout",
     "output_type": "stream",
     "text": [
      "F1: 0.47561890472618157\n",
      "AUC-ROC: 0.7670752660360626\n"
     ]
    }
   ],
   "source": [
    "def downsample(features, target, fraction):\n",
    "    features_zeros = features[target == 0]\n",
    "    features_ones = features[target == 1]\n",
    "    target_zeros = target[target == 0]\n",
    "    target_ones = target[target == 1]\n",
    "\n",
    "    features_downsampled = pd.concat(\n",
    "        [features_zeros.sample(frac=fraction, random_state=random_state)] + [features_ones])\n",
    "    target_downsampled = pd.concat(\n",
    "        [target_zeros.sample(frac=fraction, random_state=random_state)] + [target_ones])\n",
    "    \n",
    "    features_downsampled, target_downsampled = shuffle(\n",
    "        features_downsampled, target_downsampled, random_state=random_state)\n",
    "    \n",
    "    return features_downsampled, target_downsampled\n",
    "\n",
    "features_downsampled, target_downsampled = downsample(features_train, target_train, 0.2)\n",
    "\n",
    "model = LogisticRegression(random_state=random_state, solver='liblinear', max_iter=1000)\n",
    "model.fit(features_downsampled, target_downsampled)\n",
    "predicted_valid = model.predict(features_valid)\n",
    "\n",
    "probabilities_valid = model.predict_proba(features_valid)\n",
    "probabilities_one_valid = probabilities_valid[:, 1]\n",
    "\n",
    "\n",
    "print(\"F1:\", f1_score(target_valid, predicted_valid))\n",
    "print('AUC-ROC:', roc_auc_score(target_valid, probabilities_one_valid))"
   ]
  },
  {
   "cell_type": "markdown",
   "metadata": {},
   "source": [
    "Как мы видим, F1 и AUC-ROC для модели линейной регрессии просто с апсемплингом показывает самый лучший результат. Однако предварительно деревья показывали более лучший результат, поэтому поработаем и с ними. Прежние гиперпараметры могут перестать быть актуальными, поэтому придется посчитать их снова."
   ]
  },
  {
   "cell_type": "code",
   "execution_count": 25,
   "metadata": {},
   "outputs": [
    {
     "name": "stdout",
     "output_type": "stream",
     "text": [
      "max_depth: 1  | F1: 0.49096098953377737  | AUC-ROC: 0.6952593851610995\n",
      "max_depth: 2  | F1: 0.5198889916743756   | AUC-ROC: 0.7491686373041679\n",
      "max_depth: 3  | F1: 0.5198889916743756   | AUC-ROC: 0.8021125849837423\n",
      "max_depth: 4  | F1: 0.5273311897106109   | AUC-ROC: 0.8257332926889348\n",
      "max_depth: 5  | F1: 0.5829244357212953   | AUC-ROC: 0.8467975601044437\n",
      "max_depth: 6  | F1: 0.5681818181818181   | AUC-ROC: 0.8490037503694944\n",
      "max_depth: 7  | F1: 0.5770308123249299   | AUC-ROC: 0.8376356352842644\n",
      "max_depth: 8  | F1: 0.5819592628516005   | AUC-ROC: 0.8294967484481229\n",
      "max_depth: 9  | F1: 0.5688442211055276   | AUC-ROC: 0.7944586597201695\n",
      "max_depth: 10 | F1: 0.5417095777548919   | AUC-ROC: 0.7787405163070253\n",
      "max_depth: 11 | F1: 0.5485232067510548   | AUC-ROC: 0.7718925509902452\n",
      "max_depth: 12 | F1: 0.5497206703910614   | AUC-ROC: 0.7556717410582324\n",
      "max_depth: 13 | F1: 0.5450399087799316   | AUC-ROC: 0.7431451066607547\n",
      "max_depth: 14 | F1: 0.5323741007194244   | AUC-ROC: 0.7160488410188195\n",
      "max_depth: 15 | F1: 0.5211097708082026   | AUC-ROC: 0.7066559821164646\n"
     ]
    }
   ],
   "source": [
    "# попробуем использовать баланс весов классов\n",
    "for depth in range(1, 16, 1):\n",
    "    model = DecisionTreeClassifier(random_state=random_state, max_depth=depth, class_weight='balanced')\n",
    "    model.fit(features_train, target_train)\n",
    "    predictions = model.predict(features_valid)\n",
    "\n",
    "    probabilities_valid = model.predict_proba(features_valid)\n",
    "    probabilities_one_valid = probabilities_valid[:, 1]\n",
    "    print('max_depth: {0:<2} | F1: {1:<20} | AUC-ROC: {2:<5}'.format(\n",
    "            depth, f1_score(target_valid, predictions), roc_auc_score(target_valid, probabilities_one_valid)\n",
    "        ))"
   ]
  },
  {
   "cell_type": "code",
   "execution_count": 26,
   "metadata": {},
   "outputs": [
    {
     "name": "stdout",
     "output_type": "stream",
     "text": [
      "max_depth: 1  | F1: 0.49096098953377737  | AUC-ROC: 0.6952593851610995\n",
      "max_depth: 2  | F1: 0.5198889916743756   | AUC-ROC: 0.7491686373041679\n",
      "max_depth: 3  | F1: 0.5198889916743756   | AUC-ROC: 0.8021125849837423\n",
      "max_depth: 4  | F1: 0.5273311897106109   | AUC-ROC: 0.8257332926889348\n",
      "max_depth: 5  | F1: 0.5834970530451866   | AUC-ROC: 0.847401067839196\n",
      "max_depth: 6  | F1: 0.5731922398589064   | AUC-ROC: 0.8496773081091733\n",
      "max_depth: 7  | F1: 0.5815470643056849   | AUC-ROC: 0.8423497696817421\n",
      "max_depth: 8  | F1: 0.5766283524904214   | AUC-ROC: 0.8316482843137255\n",
      "max_depth: 9  | F1: 0.5612648221343873   | AUC-ROC: 0.7972629692580551\n",
      "max_depth: 10 | F1: 0.5465968586387434   | AUC-ROC: 0.7771586178441225\n",
      "max_depth: 11 | F1: 0.5606060606060606   | AUC-ROC: 0.7750209380234506\n",
      "max_depth: 12 | F1: 0.5549389567147613   | AUC-ROC: 0.7629122943147109\n",
      "max_depth: 13 | F1: 0.5496535796766744   | AUC-ROC: 0.7475382426840083\n",
      "max_depth: 14 | F1: 0.5318892900120337   | AUC-ROC: 0.716091948714159\n",
      "max_depth: 15 | F1: 0.5169082125603865   | AUC-ROC: 0.7021727818011626\n"
     ]
    }
   ],
   "source": [
    "# с апсемплингом\n",
    "for depth in range(1, 16, 1):\n",
    "    model = DecisionTreeClassifier(random_state=random_state, max_depth=depth)\n",
    "    model.fit(features_upsampled, target_upsampled)\n",
    "    predictions = model.predict(features_valid)\n",
    "\n",
    "    probabilities_valid = model.predict_proba(features_valid)\n",
    "    probabilities_one_valid = probabilities_valid[:, 1]\n",
    "    print('max_depth: {0:<2} | F1: {1:<20} | AUC-ROC: {2:<5}'.format(\n",
    "        depth, f1_score(target_valid, predictions), roc_auc_score(target_valid, probabilities_one_valid)\n",
    "    ))"
   ]
  },
  {
   "cell_type": "code",
   "execution_count": 27,
   "metadata": {},
   "outputs": [
    {
     "name": "stdout",
     "output_type": "stream",
     "text": [
      "max_depth: 1  | F1: 0.49096098953377737  | AUC-ROC: 0.6952593851610995\n",
      "max_depth: 2  | F1: 0.5198889916743756   | AUC-ROC: 0.7491686373041679\n",
      "max_depth: 3  | F1: 0.5198889916743756   | AUC-ROC: 0.8027661284362991\n",
      "max_depth: 4  | F1: 0.5425531914893617   | AUC-ROC: 0.8264468790028574\n",
      "max_depth: 5  | F1: 0.5015527950310559   | AUC-ROC: 0.8170440129569417\n",
      "max_depth: 6  | F1: 0.5389930898321815   | AUC-ROC: 0.8052140297073603\n",
      "max_depth: 7  | F1: 0.5391621129326047   | AUC-ROC: 0.7973422566262686\n",
      "max_depth: 8  | F1: 0.5196163905841324   | AUC-ROC: 0.7787790053207213\n",
      "max_depth: 9  | F1: 0.5314926660914582   | AUC-ROC: 0.7654002241600157\n",
      "max_depth: 10 | F1: 0.4892561983471075   | AUC-ROC: 0.7483873103261405\n",
      "max_depth: 11 | F1: 0.4830438378825475   | AUC-ROC: 0.725474030692679\n",
      "max_depth: 12 | F1: 0.4871155444721529   | AUC-ROC: 0.7180718235786777\n",
      "max_depth: 13 | F1: 0.48599670510708404  | AUC-ROC: 0.7047569341807074\n",
      "max_depth: 14 | F1: 0.47588424437299043  | AUC-ROC: 0.7005216031136072\n",
      "max_depth: 15 | F1: 0.469721767594108    | AUC-ROC: 0.6873360368016553\n"
     ]
    }
   ],
   "source": [
    "# с даунсемплингом\n",
    "for depth in range(1, 16, 1):\n",
    "    model = DecisionTreeClassifier(random_state=random_state, max_depth=depth)\n",
    "    model.fit(features_downsampled, target_downsampled)\n",
    "    predictions = model.predict(features_valid)\n",
    "\n",
    "    probabilities_valid = model.predict_proba(features_valid)\n",
    "    probabilities_one_valid = probabilities_valid[:, 1]\n",
    "    print('max_depth: {0:<2} | F1: {1:<20} | AUC-ROC: {2:<5}'.format(\n",
    "        depth, f1_score(target_valid, predictions), roc_auc_score(target_valid, probabilities_one_valid)\n",
    "    ))"
   ]
  },
  {
   "cell_type": "markdown",
   "metadata": {},
   "source": [
    "Результаты получаются хуже, чем с дисбалансом классов. Посмотрим на случайный лес."
   ]
  },
  {
   "cell_type": "code",
   "execution_count": 28,
   "metadata": {},
   "outputs": [
    {
     "name": "stdout",
     "output_type": "stream",
     "text": [
      "estimators: 10    | max_depth: 6  | F1: 0.6202393906420022   | AUC-ROC: 0.8549649288107204\n",
      "estimators: 10    | max_depth: 7  | F1: 0.6072607260726073   | AUC-ROC: 0.8624217903241699\n",
      "estimators: 10    | max_depth: 8  | F1: 0.6086956521739131   | AUC-ROC: 0.8559186865701054\n",
      "estimators: 10    | max_depth: 9  | F1: 0.6294536817102138   | AUC-ROC: 0.8619730084244752\n",
      "estimators: 10    | max_depth: 10 | F1: 0.593939393939394    | AUC-ROC: 0.8406524041777514\n",
      "estimators: 10    | max_depth: 11 | F1: 0.5901639344262295   | AUC-ROC: 0.841214343777712\n",
      "estimators: 10    | max_depth: 12 | F1: 0.5947368421052632   | AUC-ROC: 0.8447122253423982\n",
      "estimators: 10    | max_depth: 13 | F1: 0.587431693989071    | AUC-ROC: 0.8412636097152428\n",
      "estimators: 10    | max_depth: 14 | F1: 0.5665236051502145   | AUC-ROC: 0.8332448086018328\n",
      "estimators: 10    | max_depth: 15 | F1: 0.5537555228276877   | AUC-ROC: 0.8308022957926888\n",
      "estimators: 10    | max_depth: 16 | F1: 0.565868263473054    | AUC-ROC: 0.8333325635530593\n",
      "estimators: 10    | max_depth: 17 | F1: 0.530421216848674    | AUC-ROC: 0.8207466560744902\n",
      "estimators: 10    | max_depth: 18 | F1: 0.5411392405063291   | AUC-ROC: 0.8318530458665879\n",
      "estimators: 10    | max_depth: 19 | F1: 0.5543307086614174   | AUC-ROC: 0.8253068344171839\n",
      "estimators: 30    | max_depth: 6  | F1: 0.6260869565217391   | AUC-ROC: 0.8607174967977141\n",
      "estimators: 30    | max_depth: 7  | F1: 0.6224156692056584   | AUC-ROC: 0.8640768179130949\n",
      "estimators: 30    | max_depth: 8  | F1: 0.6238738738738739   | AUC-ROC: 0.864604887181003\n",
      "estimators: 30    | max_depth: 9  | F1: 0.6305882352941177   | AUC-ROC: 0.8679241797221402\n",
      "estimators: 30    | max_depth: 10 | F1: 0.6098765432098766   | AUC-ROC: 0.8625157035175879\n",
      "estimators: 30    | max_depth: 11 | F1: 0.6222222222222222   | AUC-ROC: 0.8565221943048575\n",
      "estimators: 30    | max_depth: 12 | F1: 0.6091644204851752   | AUC-ROC: 0.8581179488126909\n",
      "estimators: 30    | max_depth: 13 | F1: 0.6192468619246861   | AUC-ROC: 0.8595012439649227\n",
      "estimators: 30    | max_depth: 14 | F1: 0.5768667642752562   | AUC-ROC: 0.848403321755838\n",
      "estimators: 30    | max_depth: 15 | F1: 0.6047904191616768   | AUC-ROC: 0.8523507550004927\n",
      "estimators: 30    | max_depth: 16 | F1: 0.5849923430321592   | AUC-ROC: 0.8517095280323185\n",
      "estimators: 30    | max_depth: 17 | F1: 0.599388379204893    | AUC-ROC: 0.849916709774362\n",
      "estimators: 30    | max_depth: 18 | F1: 0.5800316957210777   | AUC-ROC: 0.8534507710119223\n",
      "estimators: 30    | max_depth: 19 | F1: 0.593167701863354    | AUC-ROC: 0.8475219233422011\n",
      "estimators: 50    | max_depth: 6  | F1: 0.6221743810548978   | AUC-ROC: 0.860434217656912\n",
      "estimators: 50    | max_depth: 7  | F1: 0.6183783783783784   | AUC-ROC: 0.866355367523894\n",
      "estimators: 50    | max_depth: 8  | F1: 0.6195899772209568   | AUC-ROC: 0.8660212828850133\n",
      "estimators: 50    | max_depth: 9  | F1: 0.6327014218009479   | AUC-ROC: 0.8670620258153512\n",
      "estimators: 50    | max_depth: 10 | F1: 0.6217228464419476   | AUC-ROC: 0.8669604148191941\n",
      "estimators: 50    | max_depth: 11 | F1: 0.6241872561768531   | AUC-ROC: 0.8615719529017636\n",
      "estimators: 50    | max_depth: 12 | F1: 0.6197564276048716   | AUC-ROC: 0.8645948800374421\n",
      "estimators: 50    | max_depth: 13 | F1: 0.6181818181818182   | AUC-ROC: 0.8634001810523205\n",
      "estimators: 50    | max_depth: 14 | F1: 0.591304347826087    | AUC-ROC: 0.8525847682037639\n",
      "estimators: 50    | max_depth: 15 | F1: 0.5984962406015037   | AUC-ROC: 0.8557655002955957\n",
      "estimators: 50    | max_depth: 16 | F1: 0.5932721712538226   | AUC-ROC: 0.8574059020593161\n",
      "estimators: 50    | max_depth: 17 | F1: 0.60790273556231     | AUC-ROC: 0.8528765149275791\n",
      "estimators: 50    | max_depth: 18 | F1: 0.5741324921135648   | AUC-ROC: 0.8556392563306727\n",
      "estimators: 50    | max_depth: 19 | F1: 0.5869565217391305   | AUC-ROC: 0.8510929340329096\n",
      "estimators: 70    | max_depth: 6  | F1: 0.6221743810548978   | AUC-ROC: 0.861370270469997\n",
      "estimators: 70    | max_depth: 7  | F1: 0.6188925081433225   | AUC-ROC: 0.8667171642526357\n",
      "estimators: 70    | max_depth: 8  | F1: 0.6268656716417911   | AUC-ROC: 0.8695037688442213\n",
      "estimators: 70    | max_depth: 9  | F1: 0.6276849642004774   | AUC-ROC: 0.867822568725983\n",
      "estimators: 70    | max_depth: 10 | F1: 0.6276463262764633   | AUC-ROC: 0.8692959281702631\n",
      "estimators: 70    | max_depth: 11 | F1: 0.6241872561768531   | AUC-ROC: 0.8619399078726968\n",
      "estimators: 70    | max_depth: 12 | F1: 0.6290322580645161   | AUC-ROC: 0.8662060301507539\n",
      "estimators: 70    | max_depth: 13 | F1: 0.6138613861386139   | AUC-ROC: 0.8649866981968666\n",
      "estimators: 70    | max_depth: 14 | F1: 0.5971014492753624   | AUC-ROC: 0.8586244642329293\n",
      "estimators: 70    | max_depth: 15 | F1: 0.5961251862891207   | AUC-ROC: 0.8615873485072421\n",
      "estimators: 70    | max_depth: 16 | F1: 0.5945121951219512   | AUC-ROC: 0.8605227423884126\n",
      "estimators: 70    | max_depth: 17 | F1: 0.5907692307692307   | AUC-ROC: 0.8572273130357673\n",
      "estimators: 70    | max_depth: 18 | F1: 0.5799373040752351   | AUC-ROC: 0.8580763806778994\n",
      "estimators: 70    | max_depth: 19 | F1: 0.5873261205564142   | AUC-ROC: 0.8585836658784116\n",
      "estimators: 90    | max_depth: 6  | F1: 0.6188436830835118   | AUC-ROC: 0.8630576288304267\n",
      "estimators: 90    | max_depth: 7  | F1: 0.6202393906420022   | AUC-ROC: 0.8671574785693172\n",
      "estimators: 90    | max_depth: 8  | F1: 0.6278538812785389   | AUC-ROC: 0.8691666050842448\n",
      "estimators: 90    | max_depth: 9  | F1: 0.6294536817102138   | AUC-ROC: 0.8689187358360428\n",
      "estimators: 90    | max_depth: 10 | F1: 0.6260869565217392   | AUC-ROC: 0.8694791358754558\n",
      "estimators: 90    | max_depth: 11 | F1: 0.6304909560723514   | AUC-ROC: 0.8638166321805103\n",
      "estimators: 90    | max_depth: 12 | F1: 0.6295793758480325   | AUC-ROC: 0.8666448049068873\n",
      "estimators: 90    | max_depth: 13 | F1: 0.6311360448807856   | AUC-ROC: 0.8662329724603409\n",
      "estimators: 90    | max_depth: 14 | F1: 0.5971014492753624   | AUC-ROC: 0.8606174253621046\n",
      "estimators: 90    | max_depth: 15 | F1: 0.6062407132243686   | AUC-ROC: 0.8637411937136664\n",
      "estimators: 90    | max_depth: 16 | F1: 0.5909090909090909   | AUC-ROC: 0.8621539067888462\n",
      "estimators: 90    | max_depth: 17 | F1: 0.5900621118012422   | AUC-ROC: 0.8597190917824417\n",
      "estimators: 90    | max_depth: 18 | F1: 0.5822784810126583   | AUC-ROC: 0.8592618422997341\n",
      "estimators: 90    | max_depth: 19 | F1: 0.5856697819314642   | AUC-ROC: 0.859184094492068\n"
     ]
    }
   ],
   "source": [
    "# попробуем использовать баланс весов классов и подобрать гиперпараметры для леса\n",
    "for est in range(10, 101, 20):\n",
    "    for depth in range(6, 20, 1):\n",
    "        model = RandomForestClassifier(random_state=random_state, n_estimators=est, max_depth=depth, class_weight='balanced')\n",
    "        model.fit(features_train, target_train)\n",
    "        predictions = model.predict(features_valid)\n",
    "\n",
    "        probabilities_valid = model.predict_proba(features_valid)\n",
    "        probabilities_one_valid = probabilities_valid[:, 1]\n",
    "        print('estimators: {0:<5} | max_depth: {1:<2} | F1: {2:<20} | AUC-ROC: {3:<5}'.format(\n",
    "        est, depth, f1_score(target_valid, predictions), roc_auc_score(target_valid, probabilities_one_valid)\n",
    "    ))"
   ]
  },
  {
   "cell_type": "markdown",
   "metadata": {},
   "source": [
    "Видим, что с максимальной глубиной в 9 и 50 оценщиками у случайного леса удается достичь приемлемого результата, который превышает результат обучения с дисбалансом. Именно его и используем в качестве искомой модели."
   ]
  },
  {
   "cell_type": "code",
   "execution_count": 29,
   "metadata": {
    "scrolled": true
   },
   "outputs": [
    {
     "name": "stdout",
     "output_type": "stream",
     "text": [
      "F1 RandomForestClassifier 0.6327014218009479\n",
      "AUC-ROC: 0.8670620258153512\n"
     ]
    }
   ],
   "source": [
    "best_model = RandomForestClassifier(random_state=random_state, n_estimators=50, max_depth=9, class_weight='balanced')\n",
    "best_model.fit(features_train, target_train)\n",
    "predictions = best_model.predict(features_valid)\n",
    "\n",
    "probabilities_valid = best_model.predict_proba(features_valid)\n",
    "probabilities_one_valid = probabilities_valid[:, 1]\n",
    "print(\"F1\", type(model).__name__, f1_score(target_valid, predictions))\n",
    "print('AUC-ROC:', roc_auc_score(target_valid, probabilities_one_valid))"
   ]
  },
  {
   "cell_type": "markdown",
   "metadata": {},
   "source": [
    "Мы получили удовлетворяющую заданию F1-меру, а также посчитали площадь под кривой ошибок, равную 0.87, что на отрезке от 0 до 1 является приемлемым результатом."
   ]
  },
  {
   "cell_type": "markdown",
   "metadata": {},
   "source": [
    "## Тестирование модели"
   ]
  },
  {
   "cell_type": "markdown",
   "metadata": {},
   "source": [
    "Теперь нам нужно проверить работу модели на тестовой выборке, которая была для этого отложена."
   ]
  },
  {
   "cell_type": "code",
   "execution_count": 30,
   "metadata": {},
   "outputs": [
    {
     "name": "stdout",
     "output_type": "stream",
     "text": [
      "F1: 0.5927710843373494   | AUC-ROC: 0.8403226030344674\n"
     ]
    }
   ],
   "source": [
    "# обучаем и проверяем\n",
    "final = RandomForestClassifier(random_state=random_state, n_estimators=50, max_depth=9, class_weight='balanced')\n",
    "final.fit(features_train, target_train)\n",
    "predictions = final.predict(features_test)\n",
    "\n",
    "probabilities_valid = final.predict_proba(features_test)\n",
    "probabilities_one_valid = probabilities_valid[:, 1]\n",
    "\n",
    "print('F1: {0:<20} | AUC-ROC: {1:<5}'.format(\n",
    "    f1_score(target_test, predictions), roc_auc_score(target_test, probabilities_one_valid)\n",
    "))"
   ]
  },
  {
   "cell_type": "markdown",
   "metadata": {},
   "source": [
    "На тестовых данных результат получился хуже, но остался в допустимых значениях."
   ]
  },
  {
   "cell_type": "markdown",
   "metadata": {},
   "source": [
    "## Вывод"
   ]
  },
  {
   "cell_type": "markdown",
   "metadata": {},
   "source": [
    "В ходе данного исследования мы пытались построить модель прогноза для события ухода клиента из банка. Эту задачу мы рассматривали как классификацию и использовали логистическую регрессию, решающее дерево и случайный лес. Целевой признак был несбалансирован в датасете, поэтому мы попробовали устранить дисбаланс, баланисируя веса признаков, применяя upsampling и downsampling.\n",
    "\n",
    "В итоге нужный результат показал случайный лес со сбалансированными весами. Ему были подобраны лучшие гиперпараметры, на которых обучили модель, проверяя F1-меру, объединяющую в себе полноту и точность, а также смотрели площадь под кривой ошибок AUC-ROC. F1 должна была быть не менее 0.59, а AUC-ROC точно больше 0.5, что можно считать границей случайного угадывания. На валидационной выборке значения оказались:\n",
    "\n",
    "- **F1**: 0.6327014218009479\n",
    "- **AUC-ROC**: 0.8670620258153512\n",
    "\n",
    "В конце мы проверили работу на тестовой выборке, получив следующие результаты:\n",
    "\n",
    "- **F1**: 0.5927710843373494\n",
    "- **AUC-ROC**: 0.8403226030344674\n",
    "\n",
    "Исходя из этого, предлагаю использовать данную модель для прогнозирования ухода клиентов."
   ]
  },
  {
   "cell_type": "code",
   "execution_count": null,
   "metadata": {},
   "outputs": [],
   "source": []
  }
 ],
 "metadata": {
  "ExecuteTimeLog": [
   {
    "duration": 1111,
    "start_time": "2023-02-03T09:33:25.033Z"
   },
   {
    "duration": 185,
    "start_time": "2023-02-03T09:35:35.497Z"
   },
   {
    "duration": 42,
    "start_time": "2023-02-03T09:35:40.912Z"
   },
   {
    "duration": 21,
    "start_time": "2023-02-03T09:35:59.561Z"
   },
   {
    "duration": 14,
    "start_time": "2023-02-03T09:36:04.689Z"
   },
   {
    "duration": 17,
    "start_time": "2023-02-03T09:36:44.706Z"
   },
   {
    "duration": 6,
    "start_time": "2023-02-03T09:43:10.107Z"
   },
   {
    "duration": 7,
    "start_time": "2023-02-03T09:51:05.939Z"
   },
   {
    "duration": 7,
    "start_time": "2023-02-03T09:51:29.041Z"
   },
   {
    "duration": 6,
    "start_time": "2023-02-03T09:51:39.809Z"
   },
   {
    "duration": 9,
    "start_time": "2023-02-03T09:54:11.054Z"
   },
   {
    "duration": 18,
    "start_time": "2023-02-03T09:54:26.832Z"
   },
   {
    "duration": 13,
    "start_time": "2023-02-03T09:54:45.783Z"
   },
   {
    "duration": 141,
    "start_time": "2023-02-03T10:00:34.573Z"
   },
   {
    "duration": 8,
    "start_time": "2023-02-03T10:00:41.138Z"
   },
   {
    "duration": 33,
    "start_time": "2023-02-03T10:15:13.417Z"
   },
   {
    "duration": 1513,
    "start_time": "2023-02-03T10:32:33.871Z"
   },
   {
    "duration": 1315,
    "start_time": "2023-02-03T10:33:17.921Z"
   },
   {
    "duration": 9,
    "start_time": "2023-02-03T10:34:47.148Z"
   },
   {
    "duration": 10,
    "start_time": "2023-02-03T10:35:03.211Z"
   },
   {
    "duration": 10,
    "start_time": "2023-02-03T10:37:11.449Z"
   },
   {
    "duration": 37,
    "start_time": "2023-02-03T10:40:05.958Z"
   },
   {
    "duration": 24,
    "start_time": "2023-02-03T10:41:40.953Z"
   },
   {
    "duration": 14,
    "start_time": "2023-02-03T10:43:00.309Z"
   },
   {
    "duration": 28,
    "start_time": "2023-02-03T10:43:07.523Z"
   },
   {
    "duration": 30,
    "start_time": "2023-02-03T10:43:25.373Z"
   },
   {
    "duration": 30,
    "start_time": "2023-02-03T10:46:31.471Z"
   },
   {
    "duration": 23,
    "start_time": "2023-02-03T10:48:58.280Z"
   },
   {
    "duration": 7,
    "start_time": "2023-02-03T10:49:49.705Z"
   },
   {
    "duration": 5,
    "start_time": "2023-02-03T10:50:52.524Z"
   },
   {
    "duration": 3,
    "start_time": "2023-02-03T10:56:28.453Z"
   },
   {
    "duration": 5,
    "start_time": "2023-02-03T11:01:18.104Z"
   },
   {
    "duration": 12,
    "start_time": "2023-02-03T11:01:19.577Z"
   },
   {
    "duration": 4,
    "start_time": "2023-02-03T11:01:45.538Z"
   },
   {
    "duration": 114,
    "start_time": "2023-02-03T11:05:16.616Z"
   },
   {
    "duration": 133,
    "start_time": "2023-02-03T11:05:48.188Z"
   },
   {
    "duration": 32,
    "start_time": "2023-02-03T11:07:40.703Z"
   },
   {
    "duration": 136,
    "start_time": "2023-02-03T11:11:33.087Z"
   },
   {
    "duration": 284,
    "start_time": "2023-02-03T11:12:54.794Z"
   },
   {
    "duration": 264,
    "start_time": "2023-02-03T11:15:43.503Z"
   },
   {
    "duration": 266,
    "start_time": "2023-02-03T11:15:58.366Z"
   },
   {
    "duration": 256,
    "start_time": "2023-02-03T11:16:13.776Z"
   },
   {
    "duration": 26,
    "start_time": "2023-02-03T11:18:11.900Z"
   },
   {
    "duration": 1484,
    "start_time": "2023-02-03T11:18:49.621Z"
   },
   {
    "duration": 83,
    "start_time": "2023-02-03T11:18:54.040Z"
   },
   {
    "duration": 35,
    "start_time": "2023-02-03T11:20:21.977Z"
   },
   {
    "duration": 13,
    "start_time": "2023-02-03T11:20:44.563Z"
   },
   {
    "duration": 30,
    "start_time": "2023-02-03T11:20:48.546Z"
   },
   {
    "duration": 1454,
    "start_time": "2023-02-03T11:20:51.201Z"
   },
   {
    "duration": 48,
    "start_time": "2023-02-03T11:33:20.106Z"
   },
   {
    "duration": 1108,
    "start_time": "2023-02-05T03:17:21.075Z"
   },
   {
    "duration": 190,
    "start_time": "2023-02-05T03:17:22.185Z"
   },
   {
    "duration": 24,
    "start_time": "2023-02-05T03:17:22.377Z"
   },
   {
    "duration": 16,
    "start_time": "2023-02-05T03:17:22.403Z"
   },
   {
    "duration": 6,
    "start_time": "2023-02-05T03:17:22.421Z"
   },
   {
    "duration": 17,
    "start_time": "2023-02-05T03:17:22.429Z"
   },
   {
    "duration": 19,
    "start_time": "2023-02-05T03:17:22.448Z"
   },
   {
    "duration": 23,
    "start_time": "2023-02-05T03:17:22.469Z"
   },
   {
    "duration": 5,
    "start_time": "2023-02-05T03:17:22.494Z"
   },
   {
    "duration": 3,
    "start_time": "2023-02-05T03:17:22.522Z"
   },
   {
    "duration": 6,
    "start_time": "2023-02-05T03:17:22.527Z"
   },
   {
    "duration": 14,
    "start_time": "2023-02-05T03:17:22.535Z"
   },
   {
    "duration": 4,
    "start_time": "2023-02-05T03:17:22.552Z"
   },
   {
    "duration": 69,
    "start_time": "2023-02-05T03:17:22.557Z"
   },
   {
    "duration": 1584,
    "start_time": "2023-02-05T03:17:22.628Z"
   },
   {
    "duration": 105,
    "start_time": "2023-02-05T03:17:24.215Z"
   },
   {
    "duration": 146,
    "start_time": "2023-02-05T03:17:24.323Z"
   },
   {
    "duration": 62,
    "start_time": "2023-02-05T03:17:24.472Z"
   },
   {
    "duration": 1489,
    "start_time": "2023-02-05T03:47:57.505Z"
   },
   {
    "duration": 1404,
    "start_time": "2023-02-05T03:48:13.075Z"
   },
   {
    "duration": 3,
    "start_time": "2023-02-05T03:49:21.950Z"
   },
   {
    "duration": 1344,
    "start_time": "2023-02-05T03:50:00.184Z"
   },
   {
    "duration": 1388,
    "start_time": "2023-02-05T03:50:19.960Z"
   },
   {
    "duration": 1449,
    "start_time": "2023-02-05T03:50:52.048Z"
   },
   {
    "duration": 4,
    "start_time": "2023-02-05T03:52:28.724Z"
   },
   {
    "duration": 37,
    "start_time": "2023-02-05T03:52:46.685Z"
   },
   {
    "duration": 34,
    "start_time": "2023-02-05T03:52:54.166Z"
   },
   {
    "duration": 9,
    "start_time": "2023-02-05T03:58:34.665Z"
   },
   {
    "duration": 4,
    "start_time": "2023-02-05T03:58:46.114Z"
   },
   {
    "duration": 614,
    "start_time": "2023-02-05T03:58:51.684Z"
   },
   {
    "duration": 677,
    "start_time": "2023-02-05T03:59:31.930Z"
   },
   {
    "duration": 623,
    "start_time": "2023-02-05T03:59:55.791Z"
   },
   {
    "duration": 592,
    "start_time": "2023-02-05T04:01:11.594Z"
   },
   {
    "duration": 41,
    "start_time": "2023-02-05T04:03:11.899Z"
   },
   {
    "duration": 4,
    "start_time": "2023-02-05T04:09:43.168Z"
   },
   {
    "duration": 111,
    "start_time": "2023-02-05T04:10:14.113Z"
   },
   {
    "duration": 54,
    "start_time": "2023-02-05T04:12:38.079Z"
   },
   {
    "duration": 25,
    "start_time": "2023-02-05T04:14:06.033Z"
   },
   {
    "duration": 48,
    "start_time": "2023-02-05T04:17:42.273Z"
   },
   {
    "duration": 4,
    "start_time": "2023-02-05T04:19:01.531Z"
   },
   {
    "duration": 4,
    "start_time": "2023-02-05T04:19:52.389Z"
   },
   {
    "duration": 113,
    "start_time": "2023-02-05T04:20:58.912Z"
   },
   {
    "duration": 81,
    "start_time": "2023-02-05T04:24:14.143Z"
   },
   {
    "duration": 31,
    "start_time": "2023-02-05T04:24:34.896Z"
   },
   {
    "duration": 39,
    "start_time": "2023-02-05T04:29:51.777Z"
   },
   {
    "duration": 400,
    "start_time": "2023-02-05T04:34:04.331Z"
   },
   {
    "duration": 1465,
    "start_time": "2023-02-05T04:35:40.775Z"
   },
   {
    "duration": 2786,
    "start_time": "2023-02-05T04:39:16.291Z"
   },
   {
    "duration": 2661,
    "start_time": "2023-02-05T04:39:44.904Z"
   },
   {
    "duration": 3380,
    "start_time": "2023-02-05T04:40:03.000Z"
   },
   {
    "duration": 290,
    "start_time": "2023-02-05T04:42:28.947Z"
   },
   {
    "duration": 293,
    "start_time": "2023-02-05T04:42:38.901Z"
   },
   {
    "duration": 312,
    "start_time": "2023-02-05T04:44:29.033Z"
   },
   {
    "duration": 6,
    "start_time": "2023-02-05T04:54:29.093Z"
   },
   {
    "duration": 360,
    "start_time": "2023-02-05T04:58:07.276Z"
   },
   {
    "duration": 4,
    "start_time": "2023-02-05T05:01:49.461Z"
   },
   {
    "duration": 6,
    "start_time": "2023-02-05T05:02:35.015Z"
   },
   {
    "duration": 6,
    "start_time": "2023-02-05T05:04:56.740Z"
   },
   {
    "duration": 6,
    "start_time": "2023-02-05T05:06:32.159Z"
   },
   {
    "duration": 13,
    "start_time": "2023-02-05T05:06:50.343Z"
   },
   {
    "duration": 6,
    "start_time": "2023-02-05T05:06:57.560Z"
   },
   {
    "duration": 1185,
    "start_time": "2023-02-05T05:23:04.278Z"
   },
   {
    "duration": 42,
    "start_time": "2023-02-05T05:23:05.465Z"
   },
   {
    "duration": 20,
    "start_time": "2023-02-05T05:23:05.509Z"
   },
   {
    "duration": 14,
    "start_time": "2023-02-05T05:23:05.531Z"
   },
   {
    "duration": 6,
    "start_time": "2023-02-05T05:23:05.547Z"
   },
   {
    "duration": 10,
    "start_time": "2023-02-05T05:23:05.555Z"
   },
   {
    "duration": 12,
    "start_time": "2023-02-05T05:23:05.567Z"
   },
   {
    "duration": 49,
    "start_time": "2023-02-05T05:23:05.580Z"
   },
   {
    "duration": 5,
    "start_time": "2023-02-05T05:23:05.631Z"
   },
   {
    "duration": 6,
    "start_time": "2023-02-05T05:23:05.637Z"
   },
   {
    "duration": 8,
    "start_time": "2023-02-05T05:23:05.644Z"
   },
   {
    "duration": 18,
    "start_time": "2023-02-05T05:23:05.653Z"
   },
   {
    "duration": 4,
    "start_time": "2023-02-05T05:23:05.672Z"
   },
   {
    "duration": 49,
    "start_time": "2023-02-05T05:23:05.679Z"
   },
   {
    "duration": 217,
    "start_time": "2023-02-05T05:23:05.730Z"
   },
   {
    "duration": 727,
    "start_time": "2023-02-05T05:23:05.949Z"
   },
   {
    "duration": 143,
    "start_time": "2023-02-05T05:23:06.678Z"
   },
   {
    "duration": 205,
    "start_time": "2023-02-05T05:23:06.824Z"
   },
   {
    "duration": 193,
    "start_time": "2023-02-05T05:23:07.031Z"
   },
   {
    "duration": 439,
    "start_time": "2023-02-05T05:23:07.226Z"
   },
   {
    "duration": 1495,
    "start_time": "2023-02-05T05:23:07.667Z"
   },
   {
    "duration": 3268,
    "start_time": "2023-02-05T05:23:09.164Z"
   },
   {
    "duration": 306,
    "start_time": "2023-02-05T05:23:12.434Z"
   },
   {
    "duration": 5,
    "start_time": "2023-02-05T05:23:12.742Z"
   },
   {
    "duration": 379,
    "start_time": "2023-02-05T05:23:12.748Z"
   },
   {
    "duration": 1136,
    "start_time": "2023-02-05T05:31:41.404Z"
   },
   {
    "duration": 41,
    "start_time": "2023-02-05T05:31:42.542Z"
   },
   {
    "duration": 20,
    "start_time": "2023-02-05T05:31:42.585Z"
   },
   {
    "duration": 14,
    "start_time": "2023-02-05T05:31:42.606Z"
   },
   {
    "duration": 6,
    "start_time": "2023-02-05T05:31:42.622Z"
   },
   {
    "duration": 12,
    "start_time": "2023-02-05T05:31:42.630Z"
   },
   {
    "duration": 14,
    "start_time": "2023-02-05T05:31:42.644Z"
   },
   {
    "duration": 23,
    "start_time": "2023-02-05T05:31:42.660Z"
   },
   {
    "duration": 6,
    "start_time": "2023-02-05T05:31:42.685Z"
   },
   {
    "duration": 3,
    "start_time": "2023-02-05T05:31:42.721Z"
   },
   {
    "duration": 6,
    "start_time": "2023-02-05T05:31:42.725Z"
   },
   {
    "duration": 15,
    "start_time": "2023-02-05T05:31:42.733Z"
   },
   {
    "duration": 4,
    "start_time": "2023-02-05T05:31:42.750Z"
   },
   {
    "duration": 165,
    "start_time": "2023-02-05T05:31:42.756Z"
   },
   {
    "duration": 33,
    "start_time": "2023-02-05T05:31:42.923Z"
   },
   {
    "duration": 630,
    "start_time": "2023-02-05T05:31:42.958Z"
   },
   {
    "duration": 50,
    "start_time": "2023-02-05T05:31:43.590Z"
   },
   {
    "duration": 200,
    "start_time": "2023-02-05T05:31:43.722Z"
   },
   {
    "duration": 204,
    "start_time": "2023-02-05T05:31:43.925Z"
   },
   {
    "duration": 409,
    "start_time": "2023-02-05T05:31:44.220Z"
   },
   {
    "duration": 1474,
    "start_time": "2023-02-05T05:31:44.631Z"
   },
   {
    "duration": 3057,
    "start_time": "2023-02-05T05:31:46.107Z"
   },
   {
    "duration": 290,
    "start_time": "2023-02-05T05:31:49.166Z"
   },
   {
    "duration": 6,
    "start_time": "2023-02-05T05:31:49.458Z"
   },
   {
    "duration": 365,
    "start_time": "2023-02-05T05:31:49.465Z"
   },
   {
    "duration": 1082,
    "start_time": "2023-02-07T05:45:35.912Z"
   },
   {
    "duration": 77,
    "start_time": "2023-02-07T05:45:51.116Z"
   },
   {
    "duration": 18,
    "start_time": "2023-02-07T05:45:53.437Z"
   },
   {
    "duration": 13,
    "start_time": "2023-02-07T05:45:55.204Z"
   },
   {
    "duration": 6,
    "start_time": "2023-02-07T05:45:57.596Z"
   },
   {
    "duration": 5,
    "start_time": "2023-02-07T05:46:00.517Z"
   },
   {
    "duration": 13,
    "start_time": "2023-02-07T05:46:02.149Z"
   },
   {
    "duration": 5,
    "start_time": "2023-02-07T05:46:05.980Z"
   },
   {
    "duration": 2,
    "start_time": "2023-02-07T05:46:07.805Z"
   },
   {
    "duration": 4,
    "start_time": "2023-02-07T05:46:09.181Z"
   },
   {
    "duration": 11,
    "start_time": "2023-02-07T05:46:10.589Z"
   },
   {
    "duration": 5,
    "start_time": "2023-02-07T05:46:11.796Z"
   },
   {
    "duration": 3,
    "start_time": "2023-02-07T05:46:13.283Z"
   },
   {
    "duration": 25,
    "start_time": "2023-02-07T05:46:14.621Z"
   },
   {
    "duration": 3,
    "start_time": "2023-02-07T05:46:16.046Z"
   },
   {
    "duration": 41,
    "start_time": "2023-02-07T05:46:17.629Z"
   },
   {
    "duration": 5,
    "start_time": "2023-02-07T05:46:19.661Z"
   },
   {
    "duration": 97,
    "start_time": "2023-02-07T05:46:23.313Z"
   },
   {
    "duration": 372,
    "start_time": "2023-02-07T05:46:25.605Z"
   },
   {
    "duration": 18622,
    "start_time": "2023-02-07T05:46:28.670Z"
   },
   {
    "duration": 28,
    "start_time": "2023-02-07T05:46:47.294Z"
   },
   {
    "duration": 3,
    "start_time": "2023-02-07T05:46:50.295Z"
   },
   {
    "duration": 30,
    "start_time": "2023-02-07T05:46:51.806Z"
   },
   {
    "duration": 22,
    "start_time": "2023-02-07T05:46:53.223Z"
   },
   {
    "duration": 405,
    "start_time": "2023-02-07T05:46:55.070Z"
   },
   {
    "duration": 485,
    "start_time": "2023-02-07T05:46:57.383Z"
   },
   {
    "duration": 193,
    "start_time": "2023-02-07T05:46:59.935Z"
   },
   {
    "duration": 18405,
    "start_time": "2023-02-07T05:47:01.993Z"
   },
   {
    "duration": 583,
    "start_time": "2023-02-07T05:47:29.320Z"
   },
   {
    "duration": 623,
    "start_time": "2023-02-07T05:47:56.154Z"
   },
   {
    "duration": 606,
    "start_time": "2023-02-07T05:48:43.995Z"
   },
   {
    "duration": 618,
    "start_time": "2023-02-07T05:48:49.092Z"
   },
   {
    "duration": 1020,
    "start_time": "2023-02-07T05:50:22.341Z"
   },
   {
    "duration": 40,
    "start_time": "2023-02-07T05:50:23.363Z"
   },
   {
    "duration": 20,
    "start_time": "2023-02-07T05:50:23.405Z"
   },
   {
    "duration": 13,
    "start_time": "2023-02-07T05:50:23.427Z"
   },
   {
    "duration": 6,
    "start_time": "2023-02-07T05:50:23.442Z"
   },
   {
    "duration": 7,
    "start_time": "2023-02-07T05:50:23.450Z"
   },
   {
    "duration": 12,
    "start_time": "2023-02-07T05:50:23.458Z"
   },
   {
    "duration": 5,
    "start_time": "2023-02-07T05:50:23.472Z"
   },
   {
    "duration": 33,
    "start_time": "2023-02-07T05:50:23.479Z"
   },
   {
    "duration": 5,
    "start_time": "2023-02-07T05:50:23.514Z"
   },
   {
    "duration": 12,
    "start_time": "2023-02-07T05:50:23.520Z"
   },
   {
    "duration": 4,
    "start_time": "2023-02-07T05:50:23.533Z"
   },
   {
    "duration": 8,
    "start_time": "2023-02-07T05:50:23.538Z"
   },
   {
    "duration": 26,
    "start_time": "2023-02-07T05:50:23.548Z"
   },
   {
    "duration": 3,
    "start_time": "2023-02-07T05:50:23.576Z"
   },
   {
    "duration": 56,
    "start_time": "2023-02-07T05:50:23.581Z"
   },
   {
    "duration": 5,
    "start_time": "2023-02-07T05:50:23.639Z"
   },
   {
    "duration": 71,
    "start_time": "2023-02-07T05:50:23.645Z"
   },
   {
    "duration": 473,
    "start_time": "2023-02-07T05:50:23.718Z"
   },
   {
    "duration": 18713,
    "start_time": "2023-02-07T05:50:24.193Z"
   },
   {
    "duration": 23,
    "start_time": "2023-02-07T05:50:42.909Z"
   },
   {
    "duration": 6,
    "start_time": "2023-02-07T05:50:43.011Z"
   },
   {
    "duration": 128,
    "start_time": "2023-02-07T05:50:43.018Z"
   },
   {
    "duration": 200,
    "start_time": "2023-02-07T05:50:43.210Z"
   },
   {
    "duration": 492,
    "start_time": "2023-02-07T05:50:43.414Z"
   },
   {
    "duration": 470,
    "start_time": "2023-02-07T05:50:43.910Z"
   },
   {
    "duration": 206,
    "start_time": "2023-02-07T05:50:44.382Z"
   },
   {
    "duration": 18490,
    "start_time": "2023-02-07T05:50:44.591Z"
   },
   {
    "duration": 621,
    "start_time": "2023-02-07T05:51:03.083Z"
   },
   {
    "duration": 620,
    "start_time": "2023-02-07T05:51:03.706Z"
   },
   {
    "duration": 564,
    "start_time": "2023-02-07T05:52:10.178Z"
   },
   {
    "duration": 551,
    "start_time": "2023-02-07T05:52:14.761Z"
   },
   {
    "duration": 494,
    "start_time": "2023-02-07T05:52:18.680Z"
   },
   {
    "duration": 27955,
    "start_time": "2023-02-07T05:52:50.627Z"
   },
   {
    "duration": 23814,
    "start_time": "2023-02-07T05:53:34.573Z"
   },
   {
    "duration": 306,
    "start_time": "2023-02-07T05:54:38.735Z"
   },
   {
    "duration": 302,
    "start_time": "2023-02-07T05:54:48.944Z"
   },
   {
    "duration": 1076,
    "start_time": "2023-02-07T05:57:13.194Z"
   },
   {
    "duration": 38,
    "start_time": "2023-02-07T05:57:14.271Z"
   },
   {
    "duration": 20,
    "start_time": "2023-02-07T05:57:14.311Z"
   },
   {
    "duration": 12,
    "start_time": "2023-02-07T05:57:14.333Z"
   },
   {
    "duration": 12,
    "start_time": "2023-02-07T05:57:14.346Z"
   },
   {
    "duration": 7,
    "start_time": "2023-02-07T05:57:14.360Z"
   },
   {
    "duration": 13,
    "start_time": "2023-02-07T05:57:14.369Z"
   },
   {
    "duration": 26,
    "start_time": "2023-02-07T05:57:14.384Z"
   },
   {
    "duration": 5,
    "start_time": "2023-02-07T05:57:14.412Z"
   },
   {
    "duration": 8,
    "start_time": "2023-02-07T05:57:14.419Z"
   },
   {
    "duration": 13,
    "start_time": "2023-02-07T05:57:14.428Z"
   },
   {
    "duration": 4,
    "start_time": "2023-02-07T05:57:14.443Z"
   },
   {
    "duration": 22,
    "start_time": "2023-02-07T05:57:14.448Z"
   },
   {
    "duration": 29,
    "start_time": "2023-02-07T05:57:14.472Z"
   },
   {
    "duration": 7,
    "start_time": "2023-02-07T05:57:14.503Z"
   },
   {
    "duration": 43,
    "start_time": "2023-02-07T05:57:14.512Z"
   },
   {
    "duration": 5,
    "start_time": "2023-02-07T05:57:14.557Z"
   },
   {
    "duration": 145,
    "start_time": "2023-02-07T05:57:14.565Z"
   },
   {
    "duration": 473,
    "start_time": "2023-02-07T05:57:14.712Z"
   },
   {
    "duration": 18942,
    "start_time": "2023-02-07T05:57:15.186Z"
   },
   {
    "duration": 88,
    "start_time": "2023-02-07T05:57:34.130Z"
   },
   {
    "duration": 4,
    "start_time": "2023-02-07T05:57:34.311Z"
   },
   {
    "duration": 296,
    "start_time": "2023-02-07T05:57:34.317Z"
   },
   {
    "duration": 297,
    "start_time": "2023-02-07T05:57:34.616Z"
   },
   {
    "duration": 501,
    "start_time": "2023-02-07T05:57:34.916Z"
   },
   {
    "duration": 472,
    "start_time": "2023-02-07T05:57:35.418Z"
   },
   {
    "duration": 211,
    "start_time": "2023-02-07T05:57:35.891Z"
   },
   {
    "duration": 24238,
    "start_time": "2023-02-07T05:57:36.105Z"
   },
   {
    "duration": 311,
    "start_time": "2023-02-07T05:58:00.344Z"
   },
   {
    "duration": 319,
    "start_time": "2023-02-07T05:58:00.657Z"
   }
  ],
  "kernelspec": {
   "display_name": "Python 3 (ipykernel)",
   "language": "python",
   "name": "python3"
  },
  "language_info": {
   "codemirror_mode": {
    "name": "ipython",
    "version": 3
   },
   "file_extension": ".py",
   "mimetype": "text/x-python",
   "name": "python",
   "nbconvert_exporter": "python",
   "pygments_lexer": "ipython3",
   "version": "3.9.13"
  },
  "toc": {
   "base_numbering": 1,
   "nav_menu": {},
   "number_sections": true,
   "sideBar": true,
   "skip_h1_title": true,
   "title_cell": "Содержание",
   "title_sidebar": "Contents",
   "toc_cell": true,
   "toc_position": {
    "height": "calc(100% - 180px)",
    "left": "10px",
    "top": "150px",
    "width": "384px"
   },
   "toc_section_display": true,
   "toc_window_display": true
  }
 },
 "nbformat": 4,
 "nbformat_minor": 2
}
